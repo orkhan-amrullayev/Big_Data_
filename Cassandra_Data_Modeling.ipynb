{
  "nbformat": 4,
  "nbformat_minor": 0,
  "metadata": {
    "colab": {
      "name": "Cassandra_Data_Modeling.ipynb",
      "provenance": [],
      "authorship_tag": "ABX9TyMoszx3gFRoFzT9/lVsw2WZ"
    },
    "kernelspec": {
      "name": "python3",
      "display_name": "Python 3"
    },
    "language_info": {
      "name": "python"
    }
  },
  "cells": [
    {
      "cell_type": "markdown",
      "metadata": {
        "id": "2pVjQ9Uq-D5j"
      },
      "source": [
        "# 1. ETL Pipeline for files"
      ]
    },
    {
      "cell_type": "code",
      "metadata": {
        "id": "yVH4_V9u83Oy"
      },
      "source": [
        "# import packages\n",
        "\n",
        "import pandas as pd\n",
        "import cassandra\n",
        "import re\n",
        "import os\n",
        "import glob\n",
        "import numpy as np\n",
        "import json\n",
        "import csv"
      ],
      "execution_count": null,
      "outputs": []
    },
    {
      "cell_type": "markdown",
      "metadata": {
        "id": "WGldps7j-ME0"
      },
      "source": [
        "## Filepaths and event csv files which are partitioned by date."
      ]
    },
    {
      "cell_type": "code",
      "metadata": {
        "id": "7zYvCmRd-Kqs"
      },
      "source": [
        "# checking your current working directory\n",
        "print(os.getcwd())\n",
        "\n",
        "# Get your current folder and subfolder event data\n",
        "filepath = os.getcwd() + '/event_data'\n",
        "\n",
        "# Create a for loop to create a list of files and collect each filepath\n",
        "for root, dirs, files in os.walk(filepath):\n",
        "    \n",
        "# join the file path and roots with the subdirectories using glob\n",
        "    file_path_list = glob.glob(os.path.join(root,'*'))\n",
        "    #print(file_path_list)"
      ],
      "execution_count": null,
      "outputs": []
    },
    {
      "cell_type": "markdown",
      "metadata": {
        "id": "hVrrgIlD-kKP"
      },
      "source": [
        "## Preparations for Apache Cassandra"
      ]
    },
    {
      "cell_type": "code",
      "metadata": {
        "id": "uZM3ZmrF-KlO"
      },
      "source": [
        "# initiating an empty list of rows that will be generated from each file\n",
        "full_data_rows_list = [] \n",
        "    \n",
        "# for every filepath in the file path list \n",
        "for f in file_path_list:\n",
        "\n",
        "# reading csv file \n",
        "    with open(f, 'r', encoding = 'utf8', newline='') as csvfile: \n",
        "        # creating a csv reader object \n",
        "        csvreader = csv.reader(csvfile) \n",
        "        next(csvreader)\n",
        "        \n",
        " # extracting each data row one by one and append it        \n",
        "        for line in csvreader:\n",
        "            #print(line)\n",
        "            full_data_rows_list.append(line) \n",
        "            \n",
        "# uncomment the code below if you would like to get total number of rows \n",
        "#print(len(full_data_rows_list))\n",
        "# uncomment the code below if you would like to check to see what the list of event data rows will look like\n",
        "#print(full_data_rows_list)\n",
        "\n",
        "# creating a smaller event data csv file called event_datafile_full csv that will be used to insert data into the \\\n",
        "# Apache Cassandra tables\n",
        "csv.register_dialect('myDialect', quoting=csv.QUOTE_ALL, skipinitialspace=True)\n",
        "\n",
        "with open('event_datafile_new.csv', 'w', encoding = 'utf8', newline='') as f:\n",
        "    writer = csv.writer(f, dialect='myDialect')\n",
        "    writer.writerow(['artist','firstName','gender','itemInSession','lastName','length',\\\n",
        "                'level','location','sessionId','song','userId'])\n",
        "    for row in full_data_rows_list:\n",
        "        if (row[0] == ''):\n",
        "            continue\n",
        "        writer.writerow((row[0], row[2], row[3], row[4], row[5], row[6], row[7], row[8], row[12], row[13], row[16]))"
      ],
      "execution_count": null,
      "outputs": []
    },
    {
      "cell_type": "code",
      "metadata": {
        "id": "ZBF9rY4D-vTO"
      },
      "source": [
        "# the number of rows in your csv file\n",
        "with open('event_datafile_new.csv', 'r', encoding = 'utf8') as f:\n",
        "    print(sum(1 for line in f))"
      ],
      "execution_count": null,
      "outputs": []
    },
    {
      "cell_type": "markdown",
      "metadata": {
        "id": "uwEQFgTh-0Li"
      },
      "source": [
        "# 2. Apache Cassandra"
      ]
    },
    {
      "cell_type": "code",
      "metadata": {
        "id": "CKxM_uQq-vO7"
      },
      "source": [
        "# This should make a connection to a Cassandra instance your local machine \n",
        "# (127.0.0.1)\n",
        "\n",
        "from cassandra.cluster import Cluster\n",
        "cluster = Cluster()\n",
        "\n",
        "# To establish connection and begin executing queries, need a session\n",
        "session = cluster.connect()"
      ],
      "execution_count": null,
      "outputs": []
    },
    {
      "cell_type": "markdown",
      "metadata": {
        "id": "tM4Ip3GI_GyC"
      },
      "source": [
        "Create Keyspace"
      ]
    },
    {
      "cell_type": "code",
      "metadata": {
        "id": "s8LrMXDq-vMC"
      },
      "source": [
        "# TO-DO: Create a Keyspace \n",
        "\n",
        "try:\n",
        "    session.execute(\"\"\"\n",
        "    CREATE KEYSPACE IF NOT EXISTS music\n",
        "    WITH REPLICATION =\n",
        "    {'class':'SimpleStrategy', 'replication_factor':1}\"\"\"\n",
        ")\n",
        "except Exception as e:\n",
        "    print(e)"
      ],
      "execution_count": null,
      "outputs": []
    },
    {
      "cell_type": "markdown",
      "metadata": {
        "id": "5vF8MuV2_KVb"
      },
      "source": [
        "Set Keyspace"
      ]
    },
    {
      "cell_type": "code",
      "metadata": {
        "id": "-GbKD9hB-vJP"
      },
      "source": [
        "# TO-DO: Set KEYSPACE to the keyspace specified above\n",
        "\n",
        "try:\n",
        "    session.set_keyspace('music')\n",
        "except Exception as e:\n",
        "    print(e)"
      ],
      "execution_count": null,
      "outputs": []
    },
    {
      "cell_type": "markdown",
      "metadata": {
        "id": "vTGXjjG7_WCA"
      },
      "source": [
        "# TASK 1 / Query 1: \n",
        "Return the artist, song title and song's length in the music app history that was heard during sessionId = 338, and itemInSession = 4"
      ]
    },
    {
      "cell_type": "markdown",
      "metadata": {
        "id": "4SOykfup_s9S"
      },
      "source": [
        "Here, we partition data by sessionId and itemInSession and adding clustering columns namely artist, song to form the primary key."
      ]
    },
    {
      "cell_type": "code",
      "metadata": {
        "id": "UEJKl9xf_sqR"
      },
      "source": [
        "# create table\n",
        "\n",
        "query = \"CREATE TABLE IF NOT EXISTS song_library \"\n",
        "query = query + \"(artist text, song text, length float, sessionId int, itemInSession int, PRIMARY KEY((sessionId, itemInSession), artist, song))\"\n",
        "try:\n",
        "    session.execute(query)\n",
        "except Exception as e:\n",
        "    print(e)"
      ],
      "execution_count": null,
      "outputs": []
    },
    {
      "cell_type": "code",
      "metadata": {
        "id": "xp3mf799_snm"
      },
      "source": [
        "# set up the CSV file.\n",
        "file = 'event_datafile_new.csv'\n",
        "\n",
        "with open(file, encoding = 'utf8') as f:\n",
        "    csvreader = csv.reader(f)\n",
        "    next(csvreader) # skip header\n",
        "    for line in csvreader:\n",
        "        query = \"INSERT INTO song_library (artist, song, length, sessionId, itemInSession)\"\n",
        "        query = query + \"VALUES (%s, %s, %s, %s, %s)\"\n",
        "        session.execute(query, (line[0], line[9], float(line[5]), int(line[8]), int(line[3])))"
      ],
      "execution_count": null,
      "outputs": []
    },
    {
      "cell_type": "code",
      "metadata": {
        "colab": {
          "base_uri": "https://localhost:8080/"
        },
        "id": "9qzuU4V5-Kiv",
        "outputId": "66420b60-3a63-4d05-fc38-077e576e4e73"
      },
      "source": [
        "## TASK/QUERY Execution: Add in the SELECT statement to verify the data was entered into the table\n",
        "\n",
        "query = \"SELECT artist, song, length FROM song_library WHERE sessionId=338 AND itemInSession=4;\"\n",
        "try:\n",
        "    rows = session.execute(query)\n",
        "except Exception as e:\n",
        "    print(e)\n",
        "\n",
        "if rows:\n",
        "    df = pd.DataFrame(list(rows))\n",
        "    df.rename(columns={\"artist\": \"SongArtist\", \"song\": \"SongTitle\",\n",
        "                      \"length\": \"SongLength\"}, \n",
        "              inplace=True)\n",
        "    print(df)\n",
        "else:\n",
        "    print(\"No data found.\")"
      ],
      "execution_count": 2,
      "outputs": [
        {
          "output_type": "stream",
          "name": "stdout",
          "text": [
            "No data found.\n"
          ]
        }
      ]
    },
    {
      "cell_type": "markdown",
      "metadata": {
        "id": "upqCpV-yIEEh"
      },
      "source": [
        "## TASK 2 / Query 2: \n",
        "Return only the following: name of artist, song (sorted by itemInSession) and user (first and last name) for userid = 10, sessionid = 182"
      ]
    },
    {
      "cell_type": "markdown",
      "metadata": {
        "id": "OAJAK2g3IOPc"
      },
      "source": [
        "Here, we partition data by userId and sessionId and adding clustering column itemInSession to form the primary key."
      ]
    },
    {
      "cell_type": "code",
      "metadata": {
        "colab": {
          "base_uri": "https://localhost:8080/"
        },
        "id": "5-aoJLGd-KVC",
        "outputId": "03f94d54-cd09-4080-a9d2-8a7125e8fbd4"
      },
      "source": [
        "# creating table\n",
        "query = \"CREATE TABLE IF NOT EXISTS song_library2 \"\n",
        "query = query + \"(artist text, song text, firstName text, lastName text, itemInSession int, sessionId int, userId int, PRIMARY KEY((userId, sessionId), itemInSession))\"\n",
        "try:\n",
        "    session.execute(query)\n",
        "except Exception as e:\n",
        "    print(e)\n",
        "\n",
        "\n",
        "# part of the code to set up the CSV file\n",
        "file = 'event_datafile_new.csv'\n",
        "\n",
        "with open(file, encoding = 'utf8') as f:\n",
        "    csvreader = csv.reader(f)\n",
        "    next(csvreader) # skip header\n",
        "    for line in csvreader:\n",
        "        query = \"INSERT INTO song_library2 (artist, song, firstName, lastName, itemInSession, sessionId, userId)\"\n",
        "        query = query + \"VALUES (%s, %s, %s, %s, %s, %s, %s)\"\n",
        "        session.execute(query, (line[0], line[9], line[1], line[4], int(line[3]), int(line[8]), int(line[10])))\n",
        "\n",
        "\n",
        "query = \"SELECT artist, song, firstName, lastName FROM song_library2 WHERE userId=10 AND sessionId=182;\"\n",
        "try:\n",
        "    rows = session.execute(query)\n",
        "except Exception as e:\n",
        "    print(e)\n",
        "\n",
        "if rows:\n",
        "    df = pd.DataFrame(list(rows))\n",
        "    df.rename(columns={\"artist\": \"SongArtist\", \"song\": \"SongTitle\",\n",
        "                      \"firstName\": \"UserFirstname\", \"lastName\": \"UserFirstname\"}, \n",
        "              inplace=True)\n",
        "    print(df)\n",
        "else:\n",
        "    print(\"No data found.\")"
      ],
      "execution_count": 3,
      "outputs": [
        {
          "output_type": "stream",
          "name": "stdout",
          "text": [
            "No data found.\n"
          ]
        }
      ]
    },
    {
      "cell_type": "markdown",
      "metadata": {
        "id": "OUnLjdEEIZ3E"
      },
      "source": [
        "# Task 3 / Query 3: \n",
        "Return every user name (first and last) in my music app history who listened to the song 'All Hands Against His Own'"
      ]
    },
    {
      "cell_type": "markdown",
      "metadata": {
        "id": "knpyWUu-MOmq"
      },
      "source": [
        "Here, we partition data by song and adding clustering column userId to form the primary key."
      ]
    },
    {
      "cell_type": "code",
      "metadata": {
        "colab": {
          "base_uri": "https://localhost:8080/"
        },
        "id": "pHphXkYUMUMX",
        "outputId": "c2b4eb0d-90c5-4e68-b5cd-fe5a789a09e3"
      },
      "source": [
        "# creating table\n",
        "query = \"CREATE TABLE IF NOT EXISTS song_library3 \"\n",
        "query = query + \"(userId int, song text, firstName text, lastName text, PRIMARY KEY(song, userId))\"\n",
        "try:\n",
        "    session.execute(query)\n",
        "except Exception as e:\n",
        "    print(e)\n",
        "\n",
        "\n",
        "# part of the code to set up the CSV file\n",
        "file = 'event_datafile_new.csv'\n",
        "\n",
        "with open(file, encoding = 'utf8') as f:\n",
        "    csvreader = csv.reader(f)\n",
        "    next(csvreader) # skip header\n",
        "    for line in csvreader:\n",
        "        query = \"INSERT INTO song_library3 (userId, song, firstName, lastName)\"\n",
        "        query = query + \"VALUES (%s, %s, %s, %s)\"\n",
        "        session.execute(query, (int(line[10]), line[9], line[1], line[4]))\n",
        "\n",
        "\n",
        "query = \"SELECT firstName, lastName FROM song_library3 WHERE song='All Hands Against His Own';\"\n",
        "try:\n",
        "    rows = session.execute(query)\n",
        "except Exception as e:\n",
        "    print(e)\n",
        "\n",
        "if rows:\n",
        "    df = pd.DataFrame(list(rows))\n",
        "    df.rename(columns={\"firstname\": \"UserFirstname\", \"lastname\": \"UserLastname\"}, inplace=True)\n",
        "    print(df)\n",
        "else:\n",
        "    print(\"No data found.\")"
      ],
      "execution_count": 11,
      "outputs": [
        {
          "output_type": "stream",
          "name": "stdout",
          "text": [
            "   UserFirstname  UserLastname \n",
            " 0          Sara       Johnson\n"
          ]
        }
      ]
    },
    {
      "cell_type": "markdown",
      "metadata": {
        "id": "z5KXniQ4M3Ir"
      },
      "source": [
        "## Drop the tables before closing out the sessions"
      ]
    },
    {
      "cell_type": "code",
      "metadata": {
        "id": "hV-RG5M8Mi6X"
      },
      "source": [
        "query = \"drop table if exists song_library;\"\n",
        "try:\n",
        "    rows = session.execute(query)\n",
        "except Exception as e:\n",
        "    print(e)\n",
        "\n",
        "query = \"drop table if exists song_library2;\"\n",
        "try:\n",
        "    rows = session.execute(query)\n",
        "except Exception as e:\n",
        "    print(e)\n",
        "    \n",
        "query = \"drop table if exists song_library3;\"\n",
        "try:\n",
        "    rows = session.execute(query)\n",
        "except Exception as e:\n",
        "    print(e)"
      ],
      "execution_count": null,
      "outputs": []
    },
    {
      "cell_type": "markdown",
      "metadata": {
        "id": "DNjidoJlM9MD"
      },
      "source": [
        "## Close the session and cluster connection"
      ]
    },
    {
      "cell_type": "code",
      "metadata": {
        "id": "7Q_bHsXXM7CY"
      },
      "source": [
        "session.shutdown()\n",
        "cluster.shutdown()"
      ],
      "execution_count": null,
      "outputs": []
    }
  ]
}